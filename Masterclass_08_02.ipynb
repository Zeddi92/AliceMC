{
 "cells": [
  {
   "cell_type": "markdown",
   "id": "bfbe6e45-a193-4553-bb06-d139ee71ca32",
   "metadata": {},
   "source": [
    "# Masterclass Part 2\n",
    "\n",
    "Hello everyone! \n",
    "\n",
    "First we need to import some packages that allow us to analyse our Data\""
   ]
  },
  {
   "cell_type": "code",
   "execution_count": 5,
   "id": "ecce698f-a798-4253-9518-dc229d5dc7c4",
   "metadata": {},
   "outputs": [],
   "source": [
    "import numpy as np\n",
    "import math \n",
    "import pandas as pd"
   ]
  },
  {
   "cell_type": "markdown",
   "id": "8139b037-7938-4993-8ef3-a8c3fdad90b2",
   "metadata": {},
   "source": [
    "Now we can have a look at the data\n",
    " \n",
    "Typically we analyse our data using the so called root-framework which is why the data type is specified as .root"
   ]
  },
  {
   "cell_type": "code",
   "execution_count": 7,
   "id": "ca89b9fc-6c19-425d-a326-7abb06e6a75c",
   "metadata": {},
   "outputs": [],
   "source": [
    "centralities = pd.read_csv(\"data_PbPb.csv\", usecols=['centrality'])\n",
    "tracks = pd.read_csv(\"data_PbPb.csv\", usecols=['tracks'])\n",
    "\n",
    "for k in range(len(centralities)):\n",
    "    alltracks = tracks.values[k][0].replace(\"[\", \"\").replace(\"]\", \"\")\n",
    "    temptrack = alltracks.split(\", \")"
   ]
  },
  {
   "cell_type": "markdown",
   "id": "eb097bf5-1a72-45d1-8f43-4338fcf402e0",
   "metadata": {},
   "source": [
    "*TODO: Define two variables*\n",
    "\n",
    "You need one variable for counting the number of tracks and one for the event counting."
   ]
  },
  {
   "cell_type": "code",
   "execution_count": 8,
   "id": "01386187-002d-4f10-a789-804e8245504d",
   "metadata": {
    "tags": []
   },
   "outputs": [],
   "source": [
    "#### variable_one\n",
    "#### variable_two"
   ]
  },
  {
   "cell_type": "markdown",
   "id": "93a78e1e-3cc6-492e-a0d2-8878b2f4903f",
   "metadata": {},
   "source": [
    "Now we want to read in our file and specifically the informations about the centralities and tracks. For this purpose we use a for-loop that allows us to read each element in the file."
   ]
  },
  {
   "cell_type": "code",
   "execution_count": 9,
   "id": "4bf217e8-fd48-4ab6-831a-1823fcd05167",
   "metadata": {},
   "outputs": [],
   "source": [
    "for i in range(len(centralities)):\n",
    "    cent = centralities.values[i]"
   ]
  },
  {
   "cell_type": "markdown",
   "id": "73b16c32-e900-4f2c-8642-7ee298a8e164",
   "metadata": {},
   "source": [
    "*TODO: Select centralities for the event counting*\n",
    "\n",
    "*TODO: Add a new entry for your event counter*\n",
    "\n",
    "*TODO: Now write a small for-loop that can count the number of tracks in a specific momentum interval*\n"
   ]
  },
  {
   "cell_type": "code",
   "execution_count": 16,
   "id": "6cb286e8-0c33-4400-916a-6e4c7b50b24a",
   "metadata": {
    "tags": []
   },
   "outputs": [],
   "source": [
    " if cent > 80: #select centralities:    \n",
    "    print(\"hello\")    \n",
    "    #variable + 1\n",
    "        \n",
    "    for l in range(len(temptrack)):\n",
    "        track = float(temptrack[l])\n",
    "        if track < 1:\n",
    "            print(\"hello\") \n",
    "            #variable2 + 1"
   ]
  },
  {
   "cell_type": "markdown",
   "id": "2ec54291-fbc6-4744-8b84-45ebb005e18d",
   "metadata": {},
   "source": [
    "*TODO: Please print the tracks per event*\n",
    "\n",
    "**What calculations do you need to perform?**"
   ]
  },
  {
   "cell_type": "code",
   "execution_count": 1,
   "id": "bdaebab9-39d6-4677-99a7-cc073a9e8c4d",
   "metadata": {},
   "outputs": [],
   "source": [
    "#print()"
   ]
  },
  {
   "cell_type": "markdown",
   "id": "88bc5430-2b08-46d6-927f-0452873d5f4a",
   "metadata": {},
   "source": [
    "Now we can implement the same procedure for the collision system pp.\n",
    "\n",
    "Why are we doing this?"
   ]
  },
  {
   "cell_type": "code",
   "execution_count": null,
   "id": "5374e36f-97ce-45f1-8166-1d37f46614a8",
   "metadata": {},
   "outputs": [],
   "source": [
    "#pp procedure\n",
    "\n",
    "#Don't forget to import the data! But basically you can copy the code from above"
   ]
  },
  {
   "cell_type": "markdown",
   "id": "afae2797-008d-4032-ae39-36e401b13825",
   "metadata": {},
   "source": [
    "*TODO: Please compare both collision systems*\n",
    "\n",
    "Which values can you compare?\n",
    "\n",
    "Why is it interesting to compare? What's the physics behind it?"
   ]
  },
  {
   "cell_type": "code",
   "execution_count": null,
   "id": "50ad9d8a-4105-4257-82e9-9cb9681ce937",
   "metadata": {},
   "outputs": [],
   "source": []
  }
 ],
 "metadata": {
  "kernelspec": {
   "display_name": "Python 3 (ipykernel)",
   "language": "python",
   "name": "python3"
  },
  "language_info": {
   "codemirror_mode": {
    "name": "ipython",
    "version": 3
   },
   "file_extension": ".py",
   "mimetype": "text/x-python",
   "name": "python",
   "nbconvert_exporter": "python",
   "pygments_lexer": "ipython3",
   "version": "3.10.6"
  }
 },
 "nbformat": 4,
 "nbformat_minor": 5
}
